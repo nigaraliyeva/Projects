{
  "nbformat": 4,
  "nbformat_minor": 0,
  "metadata": {
    "colab": {
      "provenance": []
    },
    "kernelspec": {
      "name": "python3",
      "display_name": "Python 3"
    },
    "language_info": {
      "name": "python"
    }
  },
  "cells": [
    {
      "cell_type": "markdown",
      "source": [
        "# 1. Loading and Preparing the Dataset\n",
        "\n",
        "In this step, two separate datasets — `Fake.csv` and `True.csv` — are loaded using the pandas library. A new column named `label` is added to each dataset to indicate whether the news is fake or true:\n",
        "- `label = 1` for fake news,\n",
        "- `label = 0` for true news.\n",
        "\n",
        "Then, both datasets are concatenated into a single DataFrame. Only the `title`, `text`, and `label` columns are kept. To simplify further processing, the `title` and `text` columns are merged into a new `content` column, and the final dataset includes only `content` and `label` columns.\n"
      ],
      "metadata": {
        "id": "zDX3vgk94OVg"
      }
    },
    {
      "cell_type": "code",
      "execution_count": null,
      "metadata": {
        "colab": {
          "base_uri": "https://localhost:8080/",
          "height": 206
        },
        "id": "_hFq36_SAzv4",
        "outputId": "4672230c-8de6-4378-caeb-e399b572ac79"
      },
      "outputs": [
        {
          "output_type": "execute_result",
          "data": {
            "text/plain": [
              "                                             content  label\n",
              "0   Donald Trump Sends Out Embarrassing New Year’...      1\n",
              "1   Drunk Bragging Trump Staffer Started Russian ...      1\n",
              "2   Sheriff David Clarke Becomes An Internet Joke...      1\n",
              "3   Trump Is So Obsessed He Even Has Obama’s Name...      1\n",
              "4   Pope Francis Just Called Out Donald Trump Dur...      1"
            ],
            "text/html": [
              "\n",
              "  <div id=\"df-33fcc007-b2eb-449d-81d2-7a5ff2062d10\" class=\"colab-df-container\">\n",
              "    <div>\n",
              "<style scoped>\n",
              "    .dataframe tbody tr th:only-of-type {\n",
              "        vertical-align: middle;\n",
              "    }\n",
              "\n",
              "    .dataframe tbody tr th {\n",
              "        vertical-align: top;\n",
              "    }\n",
              "\n",
              "    .dataframe thead th {\n",
              "        text-align: right;\n",
              "    }\n",
              "</style>\n",
              "<table border=\"1\" class=\"dataframe\">\n",
              "  <thead>\n",
              "    <tr style=\"text-align: right;\">\n",
              "      <th></th>\n",
              "      <th>content</th>\n",
              "      <th>label</th>\n",
              "    </tr>\n",
              "  </thead>\n",
              "  <tbody>\n",
              "    <tr>\n",
              "      <th>0</th>\n",
              "      <td>Donald Trump Sends Out Embarrassing New Year’...</td>\n",
              "      <td>1</td>\n",
              "    </tr>\n",
              "    <tr>\n",
              "      <th>1</th>\n",
              "      <td>Drunk Bragging Trump Staffer Started Russian ...</td>\n",
              "      <td>1</td>\n",
              "    </tr>\n",
              "    <tr>\n",
              "      <th>2</th>\n",
              "      <td>Sheriff David Clarke Becomes An Internet Joke...</td>\n",
              "      <td>1</td>\n",
              "    </tr>\n",
              "    <tr>\n",
              "      <th>3</th>\n",
              "      <td>Trump Is So Obsessed He Even Has Obama’s Name...</td>\n",
              "      <td>1</td>\n",
              "    </tr>\n",
              "    <tr>\n",
              "      <th>4</th>\n",
              "      <td>Pope Francis Just Called Out Donald Trump Dur...</td>\n",
              "      <td>1</td>\n",
              "    </tr>\n",
              "  </tbody>\n",
              "</table>\n",
              "</div>\n",
              "    <div class=\"colab-df-buttons\">\n",
              "\n",
              "  <div class=\"colab-df-container\">\n",
              "    <button class=\"colab-df-convert\" onclick=\"convertToInteractive('df-33fcc007-b2eb-449d-81d2-7a5ff2062d10')\"\n",
              "            title=\"Convert this dataframe to an interactive table.\"\n",
              "            style=\"display:none;\">\n",
              "\n",
              "  <svg xmlns=\"http://www.w3.org/2000/svg\" height=\"24px\" viewBox=\"0 -960 960 960\">\n",
              "    <path d=\"M120-120v-720h720v720H120Zm60-500h600v-160H180v160Zm220 220h160v-160H400v160Zm0 220h160v-160H400v160ZM180-400h160v-160H180v160Zm440 0h160v-160H620v160ZM180-180h160v-160H180v160Zm440 0h160v-160H620v160Z\"/>\n",
              "  </svg>\n",
              "    </button>\n",
              "\n",
              "  <style>\n",
              "    .colab-df-container {\n",
              "      display:flex;\n",
              "      gap: 12px;\n",
              "    }\n",
              "\n",
              "    .colab-df-convert {\n",
              "      background-color: #E8F0FE;\n",
              "      border: none;\n",
              "      border-radius: 50%;\n",
              "      cursor: pointer;\n",
              "      display: none;\n",
              "      fill: #1967D2;\n",
              "      height: 32px;\n",
              "      padding: 0 0 0 0;\n",
              "      width: 32px;\n",
              "    }\n",
              "\n",
              "    .colab-df-convert:hover {\n",
              "      background-color: #E2EBFA;\n",
              "      box-shadow: 0px 1px 2px rgba(60, 64, 67, 0.3), 0px 1px 3px 1px rgba(60, 64, 67, 0.15);\n",
              "      fill: #174EA6;\n",
              "    }\n",
              "\n",
              "    .colab-df-buttons div {\n",
              "      margin-bottom: 4px;\n",
              "    }\n",
              "\n",
              "    [theme=dark] .colab-df-convert {\n",
              "      background-color: #3B4455;\n",
              "      fill: #D2E3FC;\n",
              "    }\n",
              "\n",
              "    [theme=dark] .colab-df-convert:hover {\n",
              "      background-color: #434B5C;\n",
              "      box-shadow: 0px 1px 3px 1px rgba(0, 0, 0, 0.15);\n",
              "      filter: drop-shadow(0px 1px 2px rgba(0, 0, 0, 0.3));\n",
              "      fill: #FFFFFF;\n",
              "    }\n",
              "  </style>\n",
              "\n",
              "    <script>\n",
              "      const buttonEl =\n",
              "        document.querySelector('#df-33fcc007-b2eb-449d-81d2-7a5ff2062d10 button.colab-df-convert');\n",
              "      buttonEl.style.display =\n",
              "        google.colab.kernel.accessAllowed ? 'block' : 'none';\n",
              "\n",
              "      async function convertToInteractive(key) {\n",
              "        const element = document.querySelector('#df-33fcc007-b2eb-449d-81d2-7a5ff2062d10');\n",
              "        const dataTable =\n",
              "          await google.colab.kernel.invokeFunction('convertToInteractive',\n",
              "                                                    [key], {});\n",
              "        if (!dataTable) return;\n",
              "\n",
              "        const docLinkHtml = 'Like what you see? Visit the ' +\n",
              "          '<a target=\"_blank\" href=https://colab.research.google.com/notebooks/data_table.ipynb>data table notebook</a>'\n",
              "          + ' to learn more about interactive tables.';\n",
              "        element.innerHTML = '';\n",
              "        dataTable['output_type'] = 'display_data';\n",
              "        await google.colab.output.renderOutput(dataTable, element);\n",
              "        const docLink = document.createElement('div');\n",
              "        docLink.innerHTML = docLinkHtml;\n",
              "        element.appendChild(docLink);\n",
              "      }\n",
              "    </script>\n",
              "  </div>\n",
              "\n",
              "\n",
              "    <div id=\"df-dc966f73-80bb-4950-bb6b-ce478233b426\">\n",
              "      <button class=\"colab-df-quickchart\" onclick=\"quickchart('df-dc966f73-80bb-4950-bb6b-ce478233b426')\"\n",
              "                title=\"Suggest charts\"\n",
              "                style=\"display:none;\">\n",
              "\n",
              "<svg xmlns=\"http://www.w3.org/2000/svg\" height=\"24px\"viewBox=\"0 0 24 24\"\n",
              "     width=\"24px\">\n",
              "    <g>\n",
              "        <path d=\"M19 3H5c-1.1 0-2 .9-2 2v14c0 1.1.9 2 2 2h14c1.1 0 2-.9 2-2V5c0-1.1-.9-2-2-2zM9 17H7v-7h2v7zm4 0h-2V7h2v10zm4 0h-2v-4h2v4z\"/>\n",
              "    </g>\n",
              "</svg>\n",
              "      </button>\n",
              "\n",
              "<style>\n",
              "  .colab-df-quickchart {\n",
              "      --bg-color: #E8F0FE;\n",
              "      --fill-color: #1967D2;\n",
              "      --hover-bg-color: #E2EBFA;\n",
              "      --hover-fill-color: #174EA6;\n",
              "      --disabled-fill-color: #AAA;\n",
              "      --disabled-bg-color: #DDD;\n",
              "  }\n",
              "\n",
              "  [theme=dark] .colab-df-quickchart {\n",
              "      --bg-color: #3B4455;\n",
              "      --fill-color: #D2E3FC;\n",
              "      --hover-bg-color: #434B5C;\n",
              "      --hover-fill-color: #FFFFFF;\n",
              "      --disabled-bg-color: #3B4455;\n",
              "      --disabled-fill-color: #666;\n",
              "  }\n",
              "\n",
              "  .colab-df-quickchart {\n",
              "    background-color: var(--bg-color);\n",
              "    border: none;\n",
              "    border-radius: 50%;\n",
              "    cursor: pointer;\n",
              "    display: none;\n",
              "    fill: var(--fill-color);\n",
              "    height: 32px;\n",
              "    padding: 0;\n",
              "    width: 32px;\n",
              "  }\n",
              "\n",
              "  .colab-df-quickchart:hover {\n",
              "    background-color: var(--hover-bg-color);\n",
              "    box-shadow: 0 1px 2px rgba(60, 64, 67, 0.3), 0 1px 3px 1px rgba(60, 64, 67, 0.15);\n",
              "    fill: var(--button-hover-fill-color);\n",
              "  }\n",
              "\n",
              "  .colab-df-quickchart-complete:disabled,\n",
              "  .colab-df-quickchart-complete:disabled:hover {\n",
              "    background-color: var(--disabled-bg-color);\n",
              "    fill: var(--disabled-fill-color);\n",
              "    box-shadow: none;\n",
              "  }\n",
              "\n",
              "  .colab-df-spinner {\n",
              "    border: 2px solid var(--fill-color);\n",
              "    border-color: transparent;\n",
              "    border-bottom-color: var(--fill-color);\n",
              "    animation:\n",
              "      spin 1s steps(1) infinite;\n",
              "  }\n",
              "\n",
              "  @keyframes spin {\n",
              "    0% {\n",
              "      border-color: transparent;\n",
              "      border-bottom-color: var(--fill-color);\n",
              "      border-left-color: var(--fill-color);\n",
              "    }\n",
              "    20% {\n",
              "      border-color: transparent;\n",
              "      border-left-color: var(--fill-color);\n",
              "      border-top-color: var(--fill-color);\n",
              "    }\n",
              "    30% {\n",
              "      border-color: transparent;\n",
              "      border-left-color: var(--fill-color);\n",
              "      border-top-color: var(--fill-color);\n",
              "      border-right-color: var(--fill-color);\n",
              "    }\n",
              "    40% {\n",
              "      border-color: transparent;\n",
              "      border-right-color: var(--fill-color);\n",
              "      border-top-color: var(--fill-color);\n",
              "    }\n",
              "    60% {\n",
              "      border-color: transparent;\n",
              "      border-right-color: var(--fill-color);\n",
              "    }\n",
              "    80% {\n",
              "      border-color: transparent;\n",
              "      border-right-color: var(--fill-color);\n",
              "      border-bottom-color: var(--fill-color);\n",
              "    }\n",
              "    90% {\n",
              "      border-color: transparent;\n",
              "      border-bottom-color: var(--fill-color);\n",
              "    }\n",
              "  }\n",
              "</style>\n",
              "\n",
              "      <script>\n",
              "        async function quickchart(key) {\n",
              "          const quickchartButtonEl =\n",
              "            document.querySelector('#' + key + ' button');\n",
              "          quickchartButtonEl.disabled = true;  // To prevent multiple clicks.\n",
              "          quickchartButtonEl.classList.add('colab-df-spinner');\n",
              "          try {\n",
              "            const charts = await google.colab.kernel.invokeFunction(\n",
              "                'suggestCharts', [key], {});\n",
              "          } catch (error) {\n",
              "            console.error('Error during call to suggestCharts:', error);\n",
              "          }\n",
              "          quickchartButtonEl.classList.remove('colab-df-spinner');\n",
              "          quickchartButtonEl.classList.add('colab-df-quickchart-complete');\n",
              "        }\n",
              "        (() => {\n",
              "          let quickchartButtonEl =\n",
              "            document.querySelector('#df-dc966f73-80bb-4950-bb6b-ce478233b426 button');\n",
              "          quickchartButtonEl.style.display =\n",
              "            google.colab.kernel.accessAllowed ? 'block' : 'none';\n",
              "        })();\n",
              "      </script>\n",
              "    </div>\n",
              "\n",
              "    </div>\n",
              "  </div>\n"
            ],
            "application/vnd.google.colaboratory.intrinsic+json": {
              "type": "dataframe",
              "variable_name": "df",
              "summary": "{\n  \"name\": \"df\",\n  \"rows\": 44898,\n  \"fields\": [\n    {\n      \"column\": \"content\",\n      \"properties\": {\n        \"dtype\": \"string\",\n        \"num_unique_values\": 39105,\n        \"samples\": [\n          \"Many 'lost' voters say they have found their candidate in Trump WASHINGTON/NEW YORK (Reuters) - Ted Wade hasn\\u2019t cared about politics enough to cast a vote in a U.S. presidential election for almost a quarter of a century, back when he supported Ross Perot\\u2019s independent candidacy in 1992. But Republican Donald Trump\\u2019s 2016 White House bid has motivated Wade to get involved and he plans to support the real estate mogul in Nevada\\u2019s nominating caucus next month. Trump is a \\u201cnon-politician\\u201d who can fix the \\u201cchaos\\u201d in Washington, he says. About one in 10 Americans who plan to cast a vote this election will do so for the first time in years, if ever, and Trump holds a decided edge with them, according to polling by Reuters/Ipsos. (tmsnrt.rs/1SgeLvi) These voters offer Trump a pool of voters who could be decisive either in the Republican primaries or a general election. They could be crucial for Trump in early-voting states such as Iowa and South Carolina, where his nearest rival, Senator Ted Cruz, is putting pressure on Trump and enjoys a strong base of support with more traditionally conservative voters. In Reuters/Ipsos polling from June to December 2015, 27.3 percent of these \\u201cnew\\u201d voters said they would vote for Trump, higher than his poll numbers among independents and Republicans who regularly vote. By way of comparison, Cruz captures just 3.4 percent of these voters. And Senator Marco Rubio of Florida snags only 4 percent. \\u201cI\\u2019m tired of the chaos between Democrats and Republicans and want to give somebody a try who I think can make a difference,\\u201d said Wade of Trump. The 51-year-old has already switched his affiliation from Democrat to Republican and even attended a Trump campaign event in Las Vegas. He has told his three older children to get involved in the elections, although he did not say whether he wanted them to vote for Trump.  Trump, the Republican front-runner, has made targeting \\u201clost\\u201d voters such as Wade a focus of his campaign. His anti-immigrant rhetoric and protectionist trade proposals have helped him to fashion a message tailored to reach Americans alienated by the endless enmity between the political parties and who, because of declining economic prospects, may feel like neither party has done much for them. Trump\\u2019s strategy is a gamble, given the lack of reliability of many of the voters with whom he is most popular. In interviews, some of those lost voters insist they will show up, saying they are drawn to Trump\\u2019s outsider status and his willingness to upend the political system. Tucson, Arizona, resident Renay Cunningham, 56, said she had never paid much attention to politics in the past. She plans to cast her first ever vote for Trump after hearing his proposed policies to curb illegal immigration, which include building a giant wall on the southern border and making Mexico pay for it. \\u201cWe need a piranha in there, and he\\u2019s definitely a piranha,\\u201d she said. Trump and his operatives are confident they can do what few of his rivals for the Republican nomination have shown they can do \\u2014 expand the party\\u2019s potential voter pool. But while Democrat Barack Obama did that eight years ago by largely registering new voters, including record levels of minorities, both male and female, in urban centers, Trump\\u2019s campaign has instead largely sought out the disaffected, who tend to be overwhelmingly older, white, and less educated than the broader electorate. \\u201cMy whole campaign has been focused on expanding the number of people who want to, and will, participate in this election cycle,\\u201d Trump wrote in a recent op-ed in USA Today. When analyzing \\u201clost\\u201d or \\u201cnew\\u201d voters, Reuters compiled poll results from people who haven\\u2019t voted in the previous two presidential campaigns and midterm congressional elections. The results focused only on those who said they were nearly certain to vote in the November election. It included responses from 3,440 \\u201cnew\\u201d Republican and independent voters \\u2013 a sample that has a credibility interval of 2 percentage points. Jan Leighley, an expert on turnout at American University, said it\\u2019s too soon to compare Trump\\u2019s \\u201cnew\\u201d voters with the disenfranchised voters, especially minorities, who in 2008 turned out in record numbers to elect the first black president. Those voters didn\\u2019t find their way to the polls simply because they were inspired to make history, Leighley said. \\u201cHe also had a kick-ass mobilization structure.\\u201d \\u201cObama\\u2019s campaign went door-to-door. They canvassed whole neighborhoods. \\u201cI don\\u2019t know if he (Trump) has the campaign infrastructure to make sure that the folks who are riled up are walked to the polls on Election Day,\\u201d she said. Trump\\u2019s campaign insists he does have the infrastructure, but won\\u2019t provide specifics on how it intends to turn casual supporters into engaged voters. The campaign says it does follow up with the thousands of attendees who jam arenas for Trump\\u2019s rallies. That\\u2019s one significant advantage the reality star has over the other candidates in the Republican field, as the challenge in reaching voters who have fallen out of the political process often lies in simply locating them. \\u201cWe\\u2019ve identified a lot of people in early primary states who have not participated in the process before,\\u201d campaign manager Corey Lewandowski told Reuters. Lewandowski resists the notion that Trump needs to turn out \\u201cnew\\u201d or reluctant voters to win states such as Iowa. Even if the Trump campaign isn\\u2019t necessarily counting on them, it may be reassuring that his supporters among \\u201cnew\\u201d voters who responded to the Reuters/Ipsos survey appear motivated to cast a vote for him. At least for the time being. Ronald Thomas, a 49-year-old truck driver and Navy veteran in North Carolina, said he, too, has never voted in a presidential contest. His girlfriend would push him to vote but he would always say \\u201cYeah, but the right one ain\\u2019t come along yet,\\u2019\\u201d Thomas said. Trump is that man. His willingness to take on the government has set him apart as someone who would \\u201cactually look out for the people,\\u201d said Thomas. Now he wants to know how to register so that he can vote for the billionaire.  And there\\u2019s Vince DiSylvester, a retired maintenance worker in Missouri, who, at 73, said has never cast a ballot for president. But Trump has inspired him to rethink that. \\u201cHe\\u2019s a businessman, he knows business, he knows how to get things done,\\u201d he said. \\u201cAnd he tells it like it is. If you don\\u2019t like it - well, too bad.\\u201d  (Editing by Ross Colvin) SAP is the sponsor of this coverage which is independently produced by the staff of Reuters News Agency.\",\n          \"Iranian Revolutionary Guards commander, another fighter, killed in Syria: Iranian media BEIRUT (Reuters) - A commander in Iran s elite Revolutionary Guards and a lower-ranking Iranian fighter have been killed fighting Islamic State in Syria in recent days, Iranian media reported on Sunday. The Revolutionary Guards, Iran s most powerful military force which also oversees an economic empire worth billions of dollars, have been fighting in support of Syrian president Bashar al-Assad for several years. An Iranian official told the Tasnim news agency last year that more than 1,000 Iranians have been killed in Syria. Senior members of the Guards have been among those killed. Kheyrollah Samadi, a Guards commander in charge of a unit in Syria, died on Thursday in fighting in the Albu Kamal region, bordering Iraq, according to Fars News. Samadi was killed in clashes with Islamic State, according to the Ghatreh news site. Iranian media have previously reported on fighting in that area between Iran s Shi ite militia allies and Islamic State. The Syrian army and its allies took complete control over Albu Kamal, Islamic State s last significant town in Syria, a military news service run by Hezbollah said on Sunday. Samadi, who fought in the Iran-Iraq war during the 1980s and had retired from the Iranian military before signing on to go to Syria, was killed by a mortar explosion, Fars News, a news agency, said. Iranian news sites posted pictures on Sunday of Samadi with Qassem Soleimani, head of the Guards branch responsible for operations outside Iran. The lower-ranking Iranian fighter, Mehdi Movahednia, was killed on Saturday in clashes with Islamic State in the town of Mayadin in eastern Syria, Fars News reported. The Revolutionary Guards initially kept quiet about their role in the Syria conflict. But in recent years, as casualties have mounted, they have been more outspoken about their engagement, framing it as an existential struggle against the Sunni Muslim fighters of Islamic State who see Shi ites, the majority of Iran s population, as apostates. On web sites linked to the Guards, members of the organization killed in Syria and Iraq are praised as protectors of Shi ite holy sites and labeled  defenders of the shrine . U.S. President Donald Trump last month gave the U.S. Treasury Department authority to impose economic sanctions on members of the Iranian Revolutionary Guard in response to what Washington calls its efforts to destabilize and undermine its opponents in the Middle East. \",\n          \"Cambodian leader gets China's backing as West condemns crackdown PHNOM PENH (Reuters) - Cambodian Prime Minister Hun Sen won words of support from China on Monday after the United States and European Union condemned the arrest of his main rival and a widening crackdown on his critics before next year s election. A day after Kem Sokha was arrested in a midnight raid on his house, one of his deputies said donor countries should open their eyes to Cambodia s  false democracy  and put more pressure on Hun Sen. When asked about Kem Sokha s arrest at a press briefing in Beijing, Chinese foreign ministry spokesman Geng Shuang said China  supports the Cambodian government s efforts to protect national security and stability.   Opposition politicians, rights groups and independent media have come under growing pressure as next year s election approaches. It could represent Hun Sen s greatest electoral challenge in more than three decades in power. One of China s closest allies in the region, Hun Sen has increasingly ignored criticism from Western donors, whose budget support is no longer as critical as it during the early years of his rule, when Cambodia was little more than a failed state.  We cannot allow foreigners to use Khmers to kill Khmers  any more,  Hun Sen said on Monday, referring to the Khmer Rouge genocide that destroyed Cambodia in the 1970s. Hun Sen, 65, is a former Khmer Rouge soldier who switched sides. Sokha was allowed to see a lawyer on Monday at his prison several hours from Phnom Penh near the border with Vietnam.  I may lose freedom, but may freedom never die in Cambodia,  Kem Sokha was quoted as saying in a post on Twitter that was repeated by his daughter, Monovithya Kem. The European Union called for his immediate release, based on the fact that he is meant to have parliamentary immunity, as an elected lawmaker.  This arrest suggests a further effort to restrict the democratic space in Cambodia,  the EU said in a statement. The U.S. State Department expressed  grave concern  at Sokha s arrest on charges it said appeared to be politically motivated. It said in a statement it was also worried about other curbs on media and civil society. Hun Sen has steadily increased his rhetoric against the United States, ending joint military exercises, expelling a U.S. pro-democracy group and on Sunday accusing Washington of conspiring with Kem Sokha. U.N. High Commissioner for Human Rights Zeid Ra ad Al Hussein said he was seriously concerned about the arrest, noting that it was on the basis of the video of a speech he had made in 2013 and which had been publicly available since then. One of Kem Sokha s deputies, Mu Sochua, said the opposition had done as much as it could and would not call for demonstrations because it believed in non-violence. She called on donors to help.  There isn t true peace. There has always been a false democracy,  said Mu Sochua, 63, who is one of three deputies to Kem Sokha in the Cambodia National Rescue Party (CNRP).   The international community have been willing to close their eyes and play along with it. Right now all the red lines have been crossed,  she told Reuters in an interview in Phnom Penh. An independent newspaper that had often been critical of Hun Sen published its last edition on Monday, saying it had been forced to close after being given one month to pay a crippling $6.3 million in back taxes . Its final headline, on the arrest of Kem Sokha, was  Descent Into Outright Dictatorship . \"\n        ],\n        \"semantic_type\": \"\",\n        \"description\": \"\"\n      }\n    },\n    {\n      \"column\": \"label\",\n      \"properties\": {\n        \"dtype\": \"number\",\n        \"std\": 0,\n        \"min\": 0,\n        \"max\": 1,\n        \"num_unique_values\": 2,\n        \"samples\": [\n          0,\n          1\n        ],\n        \"semantic_type\": \"\",\n        \"description\": \"\"\n      }\n    }\n  ]\n}"
            }
          },
          "metadata": {},
          "execution_count": 3
        }
      ],
      "source": [
        "import pandas as pd\n",
        "\n",
        "fake_df = pd.read_csv(\"Fake.csv\")\n",
        "true_df = pd.read_csv(\"True.csv\")\n",
        "\n",
        "fake_df[\"label\"] = 1\n",
        "true_df[\"label\"] = 0\n",
        "\n",
        "df = pd.concat([fake_df, true_df], ignore_index=True)\n",
        "\n",
        "df = df[[\"title\", \"text\", \"label\"]]\n",
        "\n",
        "df[\"content\"] = df[\"title\"] + \" \" + df[\"text\"]\n",
        "df = df[[\"content\", \"label\"]]\n",
        "\n",
        "df.head()\n"
      ]
    },
    {
      "cell_type": "code",
      "source": [
        "true_df.shape"
      ],
      "metadata": {
        "colab": {
          "base_uri": "https://localhost:8080/"
        },
        "id": "iMnMrhbT3dTH",
        "outputId": "788d8fb1-35ca-49ea-94c5-d802553335bc"
      },
      "execution_count": null,
      "outputs": [
        {
          "output_type": "execute_result",
          "data": {
            "text/plain": [
              "(21417, 5)"
            ]
          },
          "metadata": {},
          "execution_count": 16
        }
      ]
    },
    {
      "cell_type": "code",
      "source": [
        "fake_df.shape"
      ],
      "metadata": {
        "colab": {
          "base_uri": "https://localhost:8080/"
        },
        "id": "m_9RwopA3hVl",
        "outputId": "b2bc8531-f641-4712-e87e-c62db80cc31e"
      },
      "execution_count": null,
      "outputs": [
        {
          "output_type": "execute_result",
          "data": {
            "text/plain": [
              "(23481, 5)"
            ]
          },
          "metadata": {},
          "execution_count": 18
        }
      ]
    },
    {
      "cell_type": "code",
      "source": [
        "true_df.info()"
      ],
      "metadata": {
        "colab": {
          "base_uri": "https://localhost:8080/"
        },
        "id": "ipVPbcFI3npY",
        "outputId": "55952a6b-288d-48e6-d11f-e88bd188ce5e"
      },
      "execution_count": null,
      "outputs": [
        {
          "output_type": "stream",
          "name": "stdout",
          "text": [
            "<class 'pandas.core.frame.DataFrame'>\n",
            "RangeIndex: 21417 entries, 0 to 21416\n",
            "Data columns (total 5 columns):\n",
            " #   Column   Non-Null Count  Dtype \n",
            "---  ------   --------------  ----- \n",
            " 0   title    21417 non-null  object\n",
            " 1   text     21417 non-null  object\n",
            " 2   subject  21417 non-null  object\n",
            " 3   date     21417 non-null  object\n",
            " 4   label    21417 non-null  int64 \n",
            "dtypes: int64(1), object(4)\n",
            "memory usage: 836.7+ KB\n"
          ]
        }
      ]
    },
    {
      "cell_type": "code",
      "source": [
        "fake_df.info()"
      ],
      "metadata": {
        "colab": {
          "base_uri": "https://localhost:8080/"
        },
        "id": "ejNLOsy63t4z",
        "outputId": "fdc62be9-2c1b-4851-b5fa-ae0ec65b7d8e"
      },
      "execution_count": null,
      "outputs": [
        {
          "output_type": "stream",
          "name": "stdout",
          "text": [
            "<class 'pandas.core.frame.DataFrame'>\n",
            "RangeIndex: 23481 entries, 0 to 23480\n",
            "Data columns (total 5 columns):\n",
            " #   Column   Non-Null Count  Dtype \n",
            "---  ------   --------------  ----- \n",
            " 0   title    23481 non-null  object\n",
            " 1   text     23481 non-null  object\n",
            " 2   subject  23481 non-null  object\n",
            " 3   date     23481 non-null  object\n",
            " 4   label    23481 non-null  int64 \n",
            "dtypes: int64(1), object(4)\n",
            "memory usage: 917.4+ KB\n"
          ]
        }
      ]
    },
    {
      "cell_type": "code",
      "source": [
        "true_df.isnull().sum()"
      ],
      "metadata": {
        "colab": {
          "base_uri": "https://localhost:8080/",
          "height": 241
        },
        "id": "zTHUWNUW3Dzz",
        "outputId": "d96cae91-0a45-433b-ca34-51e5d137c135"
      },
      "execution_count": null,
      "outputs": [
        {
          "output_type": "execute_result",
          "data": {
            "text/plain": [
              "title      0\n",
              "text       0\n",
              "subject    0\n",
              "date       0\n",
              "label      0\n",
              "dtype: int64"
            ],
            "text/html": [
              "<div>\n",
              "<style scoped>\n",
              "    .dataframe tbody tr th:only-of-type {\n",
              "        vertical-align: middle;\n",
              "    }\n",
              "\n",
              "    .dataframe tbody tr th {\n",
              "        vertical-align: top;\n",
              "    }\n",
              "\n",
              "    .dataframe thead th {\n",
              "        text-align: right;\n",
              "    }\n",
              "</style>\n",
              "<table border=\"1\" class=\"dataframe\">\n",
              "  <thead>\n",
              "    <tr style=\"text-align: right;\">\n",
              "      <th></th>\n",
              "      <th>0</th>\n",
              "    </tr>\n",
              "  </thead>\n",
              "  <tbody>\n",
              "    <tr>\n",
              "      <th>title</th>\n",
              "      <td>0</td>\n",
              "    </tr>\n",
              "    <tr>\n",
              "      <th>text</th>\n",
              "      <td>0</td>\n",
              "    </tr>\n",
              "    <tr>\n",
              "      <th>subject</th>\n",
              "      <td>0</td>\n",
              "    </tr>\n",
              "    <tr>\n",
              "      <th>date</th>\n",
              "      <td>0</td>\n",
              "    </tr>\n",
              "    <tr>\n",
              "      <th>label</th>\n",
              "      <td>0</td>\n",
              "    </tr>\n",
              "  </tbody>\n",
              "</table>\n",
              "</div><br><label><b>dtype:</b> int64</label>"
            ]
          },
          "metadata": {},
          "execution_count": 14
        }
      ]
    },
    {
      "cell_type": "code",
      "source": [
        "fake_df.isnull().sum()"
      ],
      "metadata": {
        "colab": {
          "base_uri": "https://localhost:8080/",
          "height": 241
        },
        "id": "zd5sW-5t3JQt",
        "outputId": "ca77d6bd-99ed-4c5b-ba8d-d7db08f0fd09"
      },
      "execution_count": null,
      "outputs": [
        {
          "output_type": "execute_result",
          "data": {
            "text/plain": [
              "title      0\n",
              "text       0\n",
              "subject    0\n",
              "date       0\n",
              "label      0\n",
              "dtype: int64"
            ],
            "text/html": [
              "<div>\n",
              "<style scoped>\n",
              "    .dataframe tbody tr th:only-of-type {\n",
              "        vertical-align: middle;\n",
              "    }\n",
              "\n",
              "    .dataframe tbody tr th {\n",
              "        vertical-align: top;\n",
              "    }\n",
              "\n",
              "    .dataframe thead th {\n",
              "        text-align: right;\n",
              "    }\n",
              "</style>\n",
              "<table border=\"1\" class=\"dataframe\">\n",
              "  <thead>\n",
              "    <tr style=\"text-align: right;\">\n",
              "      <th></th>\n",
              "      <th>0</th>\n",
              "    </tr>\n",
              "  </thead>\n",
              "  <tbody>\n",
              "    <tr>\n",
              "      <th>title</th>\n",
              "      <td>0</td>\n",
              "    </tr>\n",
              "    <tr>\n",
              "      <th>text</th>\n",
              "      <td>0</td>\n",
              "    </tr>\n",
              "    <tr>\n",
              "      <th>subject</th>\n",
              "      <td>0</td>\n",
              "    </tr>\n",
              "    <tr>\n",
              "      <th>date</th>\n",
              "      <td>0</td>\n",
              "    </tr>\n",
              "    <tr>\n",
              "      <th>label</th>\n",
              "      <td>0</td>\n",
              "    </tr>\n",
              "  </tbody>\n",
              "</table>\n",
              "</div><br><label><b>dtype:</b> int64</label>"
            ]
          },
          "metadata": {},
          "execution_count": 15
        }
      ]
    },
    {
      "cell_type": "markdown",
      "source": [
        "# 2. Text Cleaning and Preprocessing\n",
        "\n",
        "In this step, the raw text data is cleaned to prepare it for vectorization and modeling. The following operations are performed:\n",
        "- Convert all text to lowercase.\n",
        "- Remove URLs.\n",
        "- Remove mentions and hashtags.\n",
        "- Remove all non-letter characters.\n",
        "- Remove English stopwords.\n",
        "- Lemmatize each word (convert to base form).\n",
        "\n",
        "A new column `cleaned_content` is created, which contains the cleaned version of the original `content` column.\n"
      ],
      "metadata": {
        "id": "GANo5N1T4hWZ"
      }
    },
    {
      "cell_type": "code",
      "source": [
        "import re\n",
        "import nltk\n",
        "from nltk.corpus import stopwords\n",
        "from nltk.stem import WordNetLemmatizer\n",
        "\n",
        "nltk.download('stopwords')\n",
        "nltk.download('wordnet')\n",
        "\n",
        "stop_words = set(stopwords.words('english'))\n",
        "lemmatizer = WordNetLemmatizer()\n",
        "\n",
        "def clean_text(text):\n",
        "    text = text.lower()\n",
        "    text = re.sub(r\"http\\S+|www\\S+|https\\S+\", '', text, flags=re.MULTILINE)\n",
        "    text = re.sub(r'\\@w+|\\#','', text)\n",
        "    text = re.sub(r'[^a-zA-Z]', ' ', text)\n",
        "    text = text.split()\n",
        "    text = [lemmatizer.lemmatize(word) for word in text if word not in stop_words]\n",
        "    return \" \".join(text)\n",
        "\n",
        "df[\"cleaned_content\"] = df[\"content\"].apply(clean_text)\n",
        "\n",
        "df[[\"cleaned_content\", \"label\"]].head()\n"
      ],
      "metadata": {
        "colab": {
          "base_uri": "https://localhost:8080/",
          "height": 275
        },
        "id": "6gnXh8fOBCcS",
        "outputId": "d7e343b5-c837-49b6-93f7-d72494e67180"
      },
      "execution_count": null,
      "outputs": [
        {
          "output_type": "stream",
          "name": "stderr",
          "text": [
            "[nltk_data] Downloading package stopwords to /root/nltk_data...\n",
            "[nltk_data]   Package stopwords is already up-to-date!\n",
            "[nltk_data] Downloading package wordnet to /root/nltk_data...\n",
            "[nltk_data]   Package wordnet is already up-to-date!\n"
          ]
        },
        {
          "output_type": "execute_result",
          "data": {
            "text/plain": [
              "                                     cleaned_content  label\n",
              "0  donald trump sends embarrassing new year eve m...      1\n",
              "1  drunk bragging trump staffer started russian c...      1\n",
              "2  sheriff david clarke becomes internet joke thr...      1\n",
              "3  trump obsessed even obama name coded website i...      1\n",
              "4  pope francis called donald trump christmas spe...      1"
            ],
            "text/html": [
              "\n",
              "  <div id=\"df-14241b79-29a3-46d5-84e2-ac1b5cb4da6e\" class=\"colab-df-container\">\n",
              "    <div>\n",
              "<style scoped>\n",
              "    .dataframe tbody tr th:only-of-type {\n",
              "        vertical-align: middle;\n",
              "    }\n",
              "\n",
              "    .dataframe tbody tr th {\n",
              "        vertical-align: top;\n",
              "    }\n",
              "\n",
              "    .dataframe thead th {\n",
              "        text-align: right;\n",
              "    }\n",
              "</style>\n",
              "<table border=\"1\" class=\"dataframe\">\n",
              "  <thead>\n",
              "    <tr style=\"text-align: right;\">\n",
              "      <th></th>\n",
              "      <th>cleaned_content</th>\n",
              "      <th>label</th>\n",
              "    </tr>\n",
              "  </thead>\n",
              "  <tbody>\n",
              "    <tr>\n",
              "      <th>0</th>\n",
              "      <td>donald trump sends embarrassing new year eve m...</td>\n",
              "      <td>1</td>\n",
              "    </tr>\n",
              "    <tr>\n",
              "      <th>1</th>\n",
              "      <td>drunk bragging trump staffer started russian c...</td>\n",
              "      <td>1</td>\n",
              "    </tr>\n",
              "    <tr>\n",
              "      <th>2</th>\n",
              "      <td>sheriff david clarke becomes internet joke thr...</td>\n",
              "      <td>1</td>\n",
              "    </tr>\n",
              "    <tr>\n",
              "      <th>3</th>\n",
              "      <td>trump obsessed even obama name coded website i...</td>\n",
              "      <td>1</td>\n",
              "    </tr>\n",
              "    <tr>\n",
              "      <th>4</th>\n",
              "      <td>pope francis called donald trump christmas spe...</td>\n",
              "      <td>1</td>\n",
              "    </tr>\n",
              "  </tbody>\n",
              "</table>\n",
              "</div>\n",
              "    <div class=\"colab-df-buttons\">\n",
              "\n",
              "  <div class=\"colab-df-container\">\n",
              "    <button class=\"colab-df-convert\" onclick=\"convertToInteractive('df-14241b79-29a3-46d5-84e2-ac1b5cb4da6e')\"\n",
              "            title=\"Convert this dataframe to an interactive table.\"\n",
              "            style=\"display:none;\">\n",
              "\n",
              "  <svg xmlns=\"http://www.w3.org/2000/svg\" height=\"24px\" viewBox=\"0 -960 960 960\">\n",
              "    <path d=\"M120-120v-720h720v720H120Zm60-500h600v-160H180v160Zm220 220h160v-160H400v160Zm0 220h160v-160H400v160ZM180-400h160v-160H180v160Zm440 0h160v-160H620v160ZM180-180h160v-160H180v160Zm440 0h160v-160H620v160Z\"/>\n",
              "  </svg>\n",
              "    </button>\n",
              "\n",
              "  <style>\n",
              "    .colab-df-container {\n",
              "      display:flex;\n",
              "      gap: 12px;\n",
              "    }\n",
              "\n",
              "    .colab-df-convert {\n",
              "      background-color: #E8F0FE;\n",
              "      border: none;\n",
              "      border-radius: 50%;\n",
              "      cursor: pointer;\n",
              "      display: none;\n",
              "      fill: #1967D2;\n",
              "      height: 32px;\n",
              "      padding: 0 0 0 0;\n",
              "      width: 32px;\n",
              "    }\n",
              "\n",
              "    .colab-df-convert:hover {\n",
              "      background-color: #E2EBFA;\n",
              "      box-shadow: 0px 1px 2px rgba(60, 64, 67, 0.3), 0px 1px 3px 1px rgba(60, 64, 67, 0.15);\n",
              "      fill: #174EA6;\n",
              "    }\n",
              "\n",
              "    .colab-df-buttons div {\n",
              "      margin-bottom: 4px;\n",
              "    }\n",
              "\n",
              "    [theme=dark] .colab-df-convert {\n",
              "      background-color: #3B4455;\n",
              "      fill: #D2E3FC;\n",
              "    }\n",
              "\n",
              "    [theme=dark] .colab-df-convert:hover {\n",
              "      background-color: #434B5C;\n",
              "      box-shadow: 0px 1px 3px 1px rgba(0, 0, 0, 0.15);\n",
              "      filter: drop-shadow(0px 1px 2px rgba(0, 0, 0, 0.3));\n",
              "      fill: #FFFFFF;\n",
              "    }\n",
              "  </style>\n",
              "\n",
              "    <script>\n",
              "      const buttonEl =\n",
              "        document.querySelector('#df-14241b79-29a3-46d5-84e2-ac1b5cb4da6e button.colab-df-convert');\n",
              "      buttonEl.style.display =\n",
              "        google.colab.kernel.accessAllowed ? 'block' : 'none';\n",
              "\n",
              "      async function convertToInteractive(key) {\n",
              "        const element = document.querySelector('#df-14241b79-29a3-46d5-84e2-ac1b5cb4da6e');\n",
              "        const dataTable =\n",
              "          await google.colab.kernel.invokeFunction('convertToInteractive',\n",
              "                                                    [key], {});\n",
              "        if (!dataTable) return;\n",
              "\n",
              "        const docLinkHtml = 'Like what you see? Visit the ' +\n",
              "          '<a target=\"_blank\" href=https://colab.research.google.com/notebooks/data_table.ipynb>data table notebook</a>'\n",
              "          + ' to learn more about interactive tables.';\n",
              "        element.innerHTML = '';\n",
              "        dataTable['output_type'] = 'display_data';\n",
              "        await google.colab.output.renderOutput(dataTable, element);\n",
              "        const docLink = document.createElement('div');\n",
              "        docLink.innerHTML = docLinkHtml;\n",
              "        element.appendChild(docLink);\n",
              "      }\n",
              "    </script>\n",
              "  </div>\n",
              "\n",
              "\n",
              "    <div id=\"df-75d90d13-e905-4efe-9c8c-8a7272f2beb7\">\n",
              "      <button class=\"colab-df-quickchart\" onclick=\"quickchart('df-75d90d13-e905-4efe-9c8c-8a7272f2beb7')\"\n",
              "                title=\"Suggest charts\"\n",
              "                style=\"display:none;\">\n",
              "\n",
              "<svg xmlns=\"http://www.w3.org/2000/svg\" height=\"24px\"viewBox=\"0 0 24 24\"\n",
              "     width=\"24px\">\n",
              "    <g>\n",
              "        <path d=\"M19 3H5c-1.1 0-2 .9-2 2v14c0 1.1.9 2 2 2h14c1.1 0 2-.9 2-2V5c0-1.1-.9-2-2-2zM9 17H7v-7h2v7zm4 0h-2V7h2v10zm4 0h-2v-4h2v4z\"/>\n",
              "    </g>\n",
              "</svg>\n",
              "      </button>\n",
              "\n",
              "<style>\n",
              "  .colab-df-quickchart {\n",
              "      --bg-color: #E8F0FE;\n",
              "      --fill-color: #1967D2;\n",
              "      --hover-bg-color: #E2EBFA;\n",
              "      --hover-fill-color: #174EA6;\n",
              "      --disabled-fill-color: #AAA;\n",
              "      --disabled-bg-color: #DDD;\n",
              "  }\n",
              "\n",
              "  [theme=dark] .colab-df-quickchart {\n",
              "      --bg-color: #3B4455;\n",
              "      --fill-color: #D2E3FC;\n",
              "      --hover-bg-color: #434B5C;\n",
              "      --hover-fill-color: #FFFFFF;\n",
              "      --disabled-bg-color: #3B4455;\n",
              "      --disabled-fill-color: #666;\n",
              "  }\n",
              "\n",
              "  .colab-df-quickchart {\n",
              "    background-color: var(--bg-color);\n",
              "    border: none;\n",
              "    border-radius: 50%;\n",
              "    cursor: pointer;\n",
              "    display: none;\n",
              "    fill: var(--fill-color);\n",
              "    height: 32px;\n",
              "    padding: 0;\n",
              "    width: 32px;\n",
              "  }\n",
              "\n",
              "  .colab-df-quickchart:hover {\n",
              "    background-color: var(--hover-bg-color);\n",
              "    box-shadow: 0 1px 2px rgba(60, 64, 67, 0.3), 0 1px 3px 1px rgba(60, 64, 67, 0.15);\n",
              "    fill: var(--button-hover-fill-color);\n",
              "  }\n",
              "\n",
              "  .colab-df-quickchart-complete:disabled,\n",
              "  .colab-df-quickchart-complete:disabled:hover {\n",
              "    background-color: var(--disabled-bg-color);\n",
              "    fill: var(--disabled-fill-color);\n",
              "    box-shadow: none;\n",
              "  }\n",
              "\n",
              "  .colab-df-spinner {\n",
              "    border: 2px solid var(--fill-color);\n",
              "    border-color: transparent;\n",
              "    border-bottom-color: var(--fill-color);\n",
              "    animation:\n",
              "      spin 1s steps(1) infinite;\n",
              "  }\n",
              "\n",
              "  @keyframes spin {\n",
              "    0% {\n",
              "      border-color: transparent;\n",
              "      border-bottom-color: var(--fill-color);\n",
              "      border-left-color: var(--fill-color);\n",
              "    }\n",
              "    20% {\n",
              "      border-color: transparent;\n",
              "      border-left-color: var(--fill-color);\n",
              "      border-top-color: var(--fill-color);\n",
              "    }\n",
              "    30% {\n",
              "      border-color: transparent;\n",
              "      border-left-color: var(--fill-color);\n",
              "      border-top-color: var(--fill-color);\n",
              "      border-right-color: var(--fill-color);\n",
              "    }\n",
              "    40% {\n",
              "      border-color: transparent;\n",
              "      border-right-color: var(--fill-color);\n",
              "      border-top-color: var(--fill-color);\n",
              "    }\n",
              "    60% {\n",
              "      border-color: transparent;\n",
              "      border-right-color: var(--fill-color);\n",
              "    }\n",
              "    80% {\n",
              "      border-color: transparent;\n",
              "      border-right-color: var(--fill-color);\n",
              "      border-bottom-color: var(--fill-color);\n",
              "    }\n",
              "    90% {\n",
              "      border-color: transparent;\n",
              "      border-bottom-color: var(--fill-color);\n",
              "    }\n",
              "  }\n",
              "</style>\n",
              "\n",
              "      <script>\n",
              "        async function quickchart(key) {\n",
              "          const quickchartButtonEl =\n",
              "            document.querySelector('#' + key + ' button');\n",
              "          quickchartButtonEl.disabled = true;  // To prevent multiple clicks.\n",
              "          quickchartButtonEl.classList.add('colab-df-spinner');\n",
              "          try {\n",
              "            const charts = await google.colab.kernel.invokeFunction(\n",
              "                'suggestCharts', [key], {});\n",
              "          } catch (error) {\n",
              "            console.error('Error during call to suggestCharts:', error);\n",
              "          }\n",
              "          quickchartButtonEl.classList.remove('colab-df-spinner');\n",
              "          quickchartButtonEl.classList.add('colab-df-quickchart-complete');\n",
              "        }\n",
              "        (() => {\n",
              "          let quickchartButtonEl =\n",
              "            document.querySelector('#df-75d90d13-e905-4efe-9c8c-8a7272f2beb7 button');\n",
              "          quickchartButtonEl.style.display =\n",
              "            google.colab.kernel.accessAllowed ? 'block' : 'none';\n",
              "        })();\n",
              "      </script>\n",
              "    </div>\n",
              "\n",
              "    </div>\n",
              "  </div>\n"
            ],
            "application/vnd.google.colaboratory.intrinsic+json": {
              "type": "dataframe",
              "summary": "{\n  \"name\": \"df[[\\\"cleaned_content\\\", \\\"label\\\"]]\",\n  \"rows\": 5,\n  \"fields\": [\n    {\n      \"column\": \"cleaned_content\",\n      \"properties\": {\n        \"dtype\": \"string\",\n        \"num_unique_values\": 5,\n        \"samples\": [\n          \"drunk bragging trump staffer started russian collusion investigation house intelligence committee chairman devin nunes going bad day assumption like many u christopher steele dossier prompted russia investigation lashing department justice fbi order protect trump happens dossier started investigation according document obtained new york time former trump campaign adviser george papadopoulos drunk wine bar revealed knowledge russian opposition research hillary clinton top papadopoulos covfefe boy trump administration alleged much larger role none damning drunken fool wine bar coffee boy help arrange new york meeting trump president abdel fattah el sisi egypt two month election known former aide set meeting world leader trump team trump ran merely coffee boy may papadopoulos revealed australian diplomat alexander downer russian official shopping around possible dirt democratic presidential nominee hillary clinton exactly much mr papadopoulos said night kensington wine room australian alexander downer unclear report state two month later leaked democratic email began appearing online australian official passed information mr papadopoulos american counterpart according four current former american foreign official direct knowledge australian role papadopoulos pleaded guilty lying f b cooperating witness special counsel robert mueller team presidency badly scripted reality tv show photo win mcnamee getty image\",\n          \"pope francis called donald trump christmas speech pope francis used annual christmas day message rebuke donald trump without even mentioning name pope delivered message day member united nation condemned trump move recognize jerusalem capital israel pontiff prayed monday peaceful coexistence two state within mutually agreed internationally recognized border see jesus child middle east continue suffer growing tension israeli palestinian francis said festive day let u ask lord peace jerusalem holy land let u pray resume dialogue may prevail party negotiated solution finally reached pope went plead acceptance refugee forced home issue trump continues fight francis used jesus place inn analogy today wind war blowing world outdated model development continues produce human societal environmental decline christmas invite u focus sign child recognize face little child especially like jesus place inn said jesus know well pain welcomed hard place lay one head added may heart closed home bethlehem pope said mary joseph immigrant struggled find safe place stay bethlehem leave people home land francis said comfortable easy journey young couple child heart full hope expectation child born yet step weighed uncertainty danger attend leave home behind many footstep hidden footstep joseph mary francis said sunday see track entire family forced set day see track million person choose go away driven land leave behind dear one amen photo christopher furlong getty image\",\n          \"sheriff david clarke becomes internet joke threatening poke people eye friday revealed former milwaukee sheriff david clarke considered homeland security secretary donald trump administration email scandal january brief run plane clarke fellow passenger dan black later detained police reason whatsoever except maybe feeling hurt clarke messaged police stop black deplaned search warrant executed fbi see exchange clarke calling fake news even though copy search warrant internet unintimidated lib medium attempt smear discredit fake news report designed silence former sheriff tweeted continue poke eye sharp stick bitch slap scum bag til get attacked better people maga unintimidated lib medium attempt smear discredit fake news report designed silence continue poke eye sharp stick bitch slap scum bag til get attacked better people maga pic twitter com xtzw pdu b david clarke jr sheriffclarke december stop breaking news lying lib medium make fake news smear antidote go right punch nose make taste blood nothing get bully like lying lib medium attention better give taste blood neverbackdown pic twitter com ny pshcr david clarke jr sheriffclarke december internet called local newspaper search warrant fake chose file charge time mean especially continue lie month decision charge clarke email search warrant filed keithleblanc keithleblanc december hope rest village people implicated kirk ketchum kirkketchum december slaw baked potato french fry pic twitter com fwfxszupxy alt immigration alt uscis december pic twitter com ymsobljfxu pendulum swinger pendulumswngr december called police friend stand someone made fun hat chris jackson chriscjackson december masterful pshop hat seem never tire think steely resolve one visible eye pic twitter com dwr k zezv chris mohney chrismohney december indicating finger many people died jail think finger short dipshit ike barinholtz ikebarinholtz december rofl internet tough guy fake flair pic twitter com ulcfddhkdy kellmecrazy kel moonface december edgy buddy mr smh mrssmh december break applebees aaron feltrrr december trying earn still relevant badge circusrebel circusdrew december make sure hydrate drink lot water rumored prisoner denied water prison official robert klinc robertklinc december terrill thomas year old black man died thirst clarke milwaukee county jail cell april victim homicide thought point repeated enough photo spencer platt getty image\"\n        ],\n        \"semantic_type\": \"\",\n        \"description\": \"\"\n      }\n    },\n    {\n      \"column\": \"label\",\n      \"properties\": {\n        \"dtype\": \"number\",\n        \"std\": 0,\n        \"min\": 1,\n        \"max\": 1,\n        \"num_unique_values\": 1,\n        \"samples\": [\n          1\n        ],\n        \"semantic_type\": \"\",\n        \"description\": \"\"\n      }\n    }\n  ]\n}"
            }
          },
          "metadata": {},
          "execution_count": 5
        }
      ]
    },
    {
      "cell_type": "markdown",
      "source": [
        "# 3. Data Splitting and Text Vectorization\n",
        "\n",
        "In this step, the cleaned text data is split into training and testing sets. Two different vectorization techniques are applied to convert text into numerical format:\n",
        "\n",
        "- **CountVectorizer**: Converts text documents to a matrix of token counts.\n",
        "- **TF-IDF Vectorizer**: Converts text documents to a matrix of TF-IDF features, giving importance to rare but relevant words.\n",
        "\n",
        "The resulting feature matrices will be used as input for machine learning and deep learning models.\n"
      ],
      "metadata": {
        "id": "vXHdfE5H4sA1"
      }
    },
    {
      "cell_type": "code",
      "source": [
        "from sklearn.model_selection import train_test_split\n",
        "from sklearn.feature_extraction.text import CountVectorizer, TfidfVectorizer\n",
        "\n",
        "X = df[\"cleaned_content\"]\n",
        "y = df[\"label\"]\n",
        "\n",
        "X_train, X_test, y_train, y_test = train_test_split(X, y, test_size=0.25, random_state=42)\n",
        "\n",
        "count_vectorizer = CountVectorizer()\n",
        "X_train_count = count_vectorizer.fit_transform(X_train)\n",
        "X_test_count = count_vectorizer.transform(X_test)\n",
        "\n",
        "tfidf_vectorizer = TfidfVectorizer()\n",
        "X_train_tfidf = tfidf_vectorizer.fit_transform(X_train)\n",
        "X_test_tfidf = tfidf_vectorizer.transform(X_test)\n"
      ],
      "metadata": {
        "id": "QeZoK5kiBGFJ"
      },
      "execution_count": null,
      "outputs": []
    },
    {
      "cell_type": "markdown",
      "source": [
        "# 4. Logistic Regression Model Training and Evaluation\n",
        "\n",
        "In this section, a **Logistic Regression** model is trained using the TF-IDF features extracted from the cleaned text.\n"
      ],
      "metadata": {
        "id": "gVVVhqwx4zqR"
      }
    },
    {
      "cell_type": "code",
      "source": [
        "from sklearn.linear_model import LogisticRegression\n",
        "from sklearn.metrics import classification_report, accuracy_score\n",
        "\n",
        "lr_model = LogisticRegression(max_iter=1000)\n",
        "lr_model.fit(X_train_tfidf, y_train)\n",
        "\n",
        "y_pred = lr_model.predict(X_test_tfidf)\n",
        "\n",
        "print(\"Logistic Regression Modelinin Nəticələri:\")\n",
        "print(f\"Accuracy: {accuracy_score(y_test, y_pred):.4f}\")\n",
        "print(\"\\nClassification Report:\\n\", classification_report(y_test, y_pred))\n"
      ],
      "metadata": {
        "colab": {
          "base_uri": "https://localhost:8080/"
        },
        "id": "eTOl3eAlFYgl",
        "outputId": "42fc744e-38ed-4ea3-e139-2ac29a901cf2"
      },
      "execution_count": null,
      "outputs": [
        {
          "output_type": "stream",
          "name": "stdout",
          "text": [
            "Logistic Regression Modelinin Nəticələri:\n",
            "Accuracy: 0.9865\n",
            "\n",
            "Classification Report:\n",
            "               precision    recall  f1-score   support\n",
            "\n",
            "           0       0.98      0.99      0.99      5330\n",
            "           1       0.99      0.99      0.99      5895\n",
            "\n",
            "    accuracy                           0.99     11225\n",
            "   macro avg       0.99      0.99      0.99     11225\n",
            "weighted avg       0.99      0.99      0.99     11225\n",
            "\n"
          ]
        }
      ]
    },
    {
      "cell_type": "markdown",
      "source": [
        "# 5. Naive Bayes Model Training and Evaluation (CountVectorizer)\n",
        "\n",
        "In this section, a **Multinomial Naive Bayes** model is trained using the **CountVectorizer** features.\n",
        "\n",
        "\n"
      ],
      "metadata": {
        "id": "5VUoN4lP5HP7"
      }
    },
    {
      "cell_type": "code",
      "source": [
        "from sklearn.naive_bayes import MultinomialNB\n",
        "from sklearn.metrics import classification_report\n",
        "\n",
        "nb_model = MultinomialNB()\n",
        "nb_model.fit(X_train_count, y_train)\n",
        "y_pred_nb = nb_model.predict(X_test_count)\n",
        "print(\"Naive Bayes (CountVectorizer):\\n\", classification_report(y_test, y_pred_nb))\n",
        "\n"
      ],
      "metadata": {
        "colab": {
          "base_uri": "https://localhost:8080/"
        },
        "id": "pnEzMdFMBSSf",
        "outputId": "657b1781-4eeb-423b-c8d6-d216d1a08e7d"
      },
      "execution_count": null,
      "outputs": [
        {
          "output_type": "stream",
          "name": "stdout",
          "text": [
            "Naive Bayes (CountVectorizer):\n",
            "               precision    recall  f1-score   support\n",
            "\n",
            "           0       0.95      0.95      0.95      5330\n",
            "           1       0.95      0.96      0.95      5895\n",
            "\n",
            "    accuracy                           0.95     11225\n",
            "   macro avg       0.95      0.95      0.95     11225\n",
            "weighted avg       0.95      0.95      0.95     11225\n",
            "\n"
          ]
        }
      ]
    },
    {
      "cell_type": "markdown",
      "source": [
        "# 6. Logistic Regression with Cross-Validation (TF-IDF)\n",
        "\n",
        "In this section, a **Logistic Regression** model is trained using **TF-IDF vectorized features**, with added **5-fold cross-validation** for more reliable model evaluation.\n",
        "\n",
        "\n"
      ],
      "metadata": {
        "id": "ic-R7Lj35PGe"
      }
    },
    {
      "cell_type": "code",
      "source": [
        "from sklearn.linear_model import LogisticRegression\n",
        "from sklearn.model_selection import cross_val_score\n",
        "from sklearn.metrics import classification_report\n",
        "\n",
        "lr_model = LogisticRegression(C=1.0, penalty='l2', solver='lbfgs')\n",
        "\n",
        "cv_scores = cross_val_score(lr_model, X_train_tfidf, y_train, cv=5, scoring='accuracy')\n",
        "\n",
        "print(f\"Logistic Regression Cross-validation Scores: {cv_scores}\")\n",
        "print(f\"Mean Cross-validation Score: {cv_scores.mean()}\")\n",
        "\n",
        "lr_model.fit(X_train_tfidf, y_train)\n",
        "\n",
        "y_pred_lr = lr_model.predict(X_test_tfidf)\n",
        "print(\"\\n Logistic Regression (Test Set):\\n\", classification_report(y_test, y_pred_lr))\n"
      ],
      "metadata": {
        "colab": {
          "base_uri": "https://localhost:8080/"
        },
        "id": "Cg_qkZycD8qp",
        "outputId": "2c3a0cbd-5aae-470c-b126-485d39e76c30"
      },
      "execution_count": null,
      "outputs": [
        {
          "output_type": "stream",
          "name": "stdout",
          "text": [
            "Logistic Regression Cross-validation Scores: [0.98559762 0.9844098  0.98648849 0.98663499 0.98307098]\n",
            "Mean Cross-validation Score: 0.9852403773116467\n",
            "\n",
            " Logistic Regression (Test Set):\n",
            "               precision    recall  f1-score   support\n",
            "\n",
            "           0       0.98      0.99      0.99      5330\n",
            "           1       0.99      0.99      0.99      5895\n",
            "\n",
            "    accuracy                           0.99     11225\n",
            "   macro avg       0.99      0.99      0.99     11225\n",
            "weighted avg       0.99      0.99      0.99     11225\n",
            "\n"
          ]
        }
      ]
    },
    {
      "cell_type": "markdown",
      "source": [
        "# 7. Random Forest with Hyperparameter Tuning (TF-IDF)\n",
        "\n",
        "In this section, a **Random Forest Classifier** is trained using **TF-IDF vectorized data**, and **hyperparameter tuning** is performed via **GridSearchCV**.\n",
        "\n"
      ],
      "metadata": {
        "id": "nHdkqdvR5Ykz"
      }
    },
    {
      "cell_type": "code",
      "source": [
        "from sklearn.ensemble import RandomForestClassifier\n",
        "from sklearn.model_selection import GridSearchCV\n",
        "from sklearn.metrics import classification_report\n",
        "\n",
        "param_grid = {\n",
        "    'n_estimators': [100, 200],\n",
        "    'max_depth': [10, 20, None],\n",
        "    'min_samples_split': [2, 5],\n",
        "    'min_samples_leaf': [1, 2],\n",
        "    'max_features': ['sqrt', 'log2']\n",
        "}\n",
        "\n",
        "rf_model = RandomForestClassifier(random_state=42)\n",
        "grid_search = GridSearchCV(estimator=rf_model, param_grid=param_grid, cv=5, n_jobs=-1, scoring='accuracy')\n",
        "\n",
        "grid_search.fit(X_train_tfidf, y_train)\n",
        "\n",
        "print(f\"Best Parameters: {grid_search.best_params_}\")\n",
        "\n",
        "y_pred_rf = grid_search.best_estimator_.predict(X_test_tfidf)\n",
        "print(\"\\n Random Forest (Test Set):\\n\", classification_report(y_test, y_pred_rf))\n"
      ],
      "metadata": {
        "colab": {
          "base_uri": "https://localhost:8080/"
        },
        "id": "y234uTyHEAGc",
        "outputId": "1ac5c986-5aff-4133-cda0-4aae58d43e2e"
      },
      "execution_count": null,
      "outputs": [
        {
          "output_type": "stream",
          "name": "stdout",
          "text": [
            "Best Parameters: {'max_depth': None, 'max_features': 'sqrt', 'min_samples_leaf': 1, 'min_samples_split': 2, 'n_estimators': 200}\n",
            "\n",
            " Random Forest (Test Set):\n",
            "               precision    recall  f1-score   support\n",
            "\n",
            "           0       0.99      0.99      0.99      5330\n",
            "           1       0.99      0.99      0.99      5895\n",
            "\n",
            "    accuracy                           0.99     11225\n",
            "   macro avg       0.99      0.99      0.99     11225\n",
            "weighted avg       0.99      0.99      0.99     11225\n",
            "\n"
          ]
        }
      ]
    },
    {
      "cell_type": "markdown",
      "source": [
        "# 8. Deep Learning Model (Embedding + Global Average Pooling)\n",
        "\n",
        "In this section, a **Deep Learning model** is trained using an **Embedding Layer** and **Global Average Pooling** to process the text data for binary classification.\n",
        "\n"
      ],
      "metadata": {
        "id": "S_GfEkpH5h_F"
      }
    },
    {
      "cell_type": "code",
      "source": [
        "from tensorflow.keras.preprocessing.text import Tokenizer\n",
        "from tensorflow.keras.preprocessing.sequence import pad_sequences\n",
        "from tensorflow.keras.models import Sequential\n",
        "from tensorflow.keras.layers import Dense, Embedding, GlobalAveragePooling1D\n",
        "from tensorflow.keras.optimizers import Adam\n",
        "\n",
        "tokenizer = Tokenizer(num_words=10000, oov_token=\"<OOV>\")\n",
        "tokenizer.fit_on_texts(X_train)\n",
        "\n",
        "X_train_seq = tokenizer.texts_to_sequences(X_train)\n",
        "X_test_seq = tokenizer.texts_to_sequences(X_test)\n",
        "\n",
        "max_len = 200\n",
        "X_train_pad = pad_sequences(X_train_seq, maxlen=max_len, padding='post', truncating='post')\n",
        "X_test_pad = pad_sequences(X_test_seq, maxlen=max_len, padding='post', truncating='post')\n",
        "\n",
        "model = Sequential()\n",
        "model.add(Embedding(input_dim=10000, output_dim=64, input_length=max_len))\n",
        "model.add(GlobalAveragePooling1D())\n",
        "model.add(Dense(32, activation='relu'))\n",
        "model.add(Dense(1, activation='sigmoid'))\n",
        "\n",
        "model.compile(loss='binary_crossentropy', optimizer=Adam(learning_rate=0.001), metrics=['accuracy'])\n",
        "\n",
        "history = model.fit(X_train_pad, y_train, epochs=5, validation_data=(X_test_pad, y_test), batch_size=64)\n",
        "\n",
        "loss, accuracy = model.evaluate(X_test_pad, y_test)\n",
        "print(f\"Deep Learning modelinin accuracy göstəricisi: {accuracy:.4f}\")\n"
      ],
      "metadata": {
        "colab": {
          "base_uri": "https://localhost:8080/"
        },
        "id": "hTJvAc1qB74G",
        "outputId": "e3f70107-2951-49f7-dd4c-837f468979c2"
      },
      "execution_count": null,
      "outputs": [
        {
          "output_type": "stream",
          "name": "stdout",
          "text": [
            "Epoch 1/5\n"
          ]
        },
        {
          "output_type": "stream",
          "name": "stderr",
          "text": [
            "/usr/local/lib/python3.11/dist-packages/keras/src/layers/core/embedding.py:90: UserWarning: Argument `input_length` is deprecated. Just remove it.\n",
            "  warnings.warn(\n"
          ]
        },
        {
          "output_type": "stream",
          "name": "stdout",
          "text": [
            "\u001b[1m527/527\u001b[0m \u001b[32m━━━━━━━━━━━━━━━━━━━━\u001b[0m\u001b[37m\u001b[0m \u001b[1m11s\u001b[0m 16ms/step - accuracy: 0.8672 - loss: 0.3592 - val_accuracy: 0.9868 - val_loss: 0.0523\n",
            "Epoch 2/5\n",
            "\u001b[1m527/527\u001b[0m \u001b[32m━━━━━━━━━━━━━━━━━━━━\u001b[0m\u001b[37m\u001b[0m \u001b[1m7s\u001b[0m 12ms/step - accuracy: 0.9927 - loss: 0.0318 - val_accuracy: 0.9916 - val_loss: 0.0320\n",
            "Epoch 3/5\n",
            "\u001b[1m527/527\u001b[0m \u001b[32m━━━━━━━━━━━━━━━━━━━━\u001b[0m\u001b[37m\u001b[0m \u001b[1m8s\u001b[0m 15ms/step - accuracy: 0.9971 - loss: 0.0144 - val_accuracy: 0.9936 - val_loss: 0.0238\n",
            "Epoch 4/5\n",
            "\u001b[1m527/527\u001b[0m \u001b[32m━━━━━━━━━━━━━━━━━━━━\u001b[0m\u001b[37m\u001b[0m \u001b[1m9s\u001b[0m 12ms/step - accuracy: 0.9991 - loss: 0.0058 - val_accuracy: 0.9946 - val_loss: 0.0234\n",
            "Epoch 5/5\n",
            "\u001b[1m527/527\u001b[0m \u001b[32m━━━━━━━━━━━━━━━━━━━━\u001b[0m\u001b[37m\u001b[0m \u001b[1m8s\u001b[0m 15ms/step - accuracy: 0.9994 - loss: 0.0037 - val_accuracy: 0.9951 - val_loss: 0.0223\n",
            "\u001b[1m351/351\u001b[0m \u001b[32m━━━━━━━━━━━━━━━━━━━━\u001b[0m\u001b[37m\u001b[0m \u001b[1m1s\u001b[0m 3ms/step - accuracy: 0.9947 - loss: 0.0229\n",
            "Deep Learning modelinin accuracy göstəricisi: 0.9951\n"
          ]
        }
      ]
    },
    {
      "cell_type": "markdown",
      "source": [
        "# 9. Deep Learning Model (Embedding + Global Average Pooling with Early Stopping)\n",
        "\n",
        "In this section, a **Deep Learning model** with **Early Stopping** is trained to classify the text data.\n",
        "\n",
        "\n"
      ],
      "metadata": {
        "id": "JH3JtfBU55NY"
      }
    },
    {
      "cell_type": "code",
      "source": [
        "from tensorflow.keras.models import Sequential\n",
        "from tensorflow.keras.layers import Dense, Embedding, GlobalAveragePooling1D\n",
        "from tensorflow.keras.optimizers import Adam\n",
        "from tensorflow.keras.callbacks import EarlyStopping\n",
        "\n",
        "model = Sequential()\n",
        "model.add(Embedding(input_dim=10000, output_dim=64))\n",
        "model.add(GlobalAveragePooling1D())\n",
        "model.add(Dense(32, activation='relu'))\n",
        "model.add(Dense(1, activation='sigmoid'))\n",
        "\n",
        "early_stopping = EarlyStopping(monitor='val_loss', patience=3, restore_best_weights=True)\n",
        "\n",
        "model.compile(loss='binary_crossentropy', optimizer=Adam(learning_rate=0.001), metrics=['accuracy'])\n",
        "\n",
        "history = model.fit(X_train_pad, y_train, epochs=10, validation_data=(X_test_pad, y_test), batch_size=64, callbacks=[early_stopping])\n",
        "\n",
        "loss, accuracy = model.evaluate(X_test_pad, y_test)\n",
        "print(f\"\\n Deep Learning Modelinin Accuracy: {accuracy:.4f}\")\n"
      ],
      "metadata": {
        "colab": {
          "base_uri": "https://localhost:8080/"
        },
        "id": "Iqx2eel6E91Y",
        "outputId": "49d788a8-bdec-4733-f435-86b345cc2875"
      },
      "execution_count": null,
      "outputs": [
        {
          "output_type": "stream",
          "name": "stdout",
          "text": [
            "Epoch 1/10\n",
            "\u001b[1m527/527\u001b[0m \u001b[32m━━━━━━━━━━━━━━━━━━━━\u001b[0m\u001b[37m\u001b[0m \u001b[1m9s\u001b[0m 15ms/step - accuracy: 0.8720 - loss: 0.3450 - val_accuracy: 0.9893 - val_loss: 0.0445\n",
            "Epoch 2/10\n",
            "\u001b[1m527/527\u001b[0m \u001b[32m━━━━━━━━━━━━━━━━━━━━\u001b[0m\u001b[37m\u001b[0m \u001b[1m10s\u001b[0m 15ms/step - accuracy: 0.9925 - loss: 0.0302 - val_accuracy: 0.9933 - val_loss: 0.0305\n",
            "Epoch 3/10\n",
            "\u001b[1m527/527\u001b[0m \u001b[32m━━━━━━━━━━━━━━━━━━━━\u001b[0m\u001b[37m\u001b[0m \u001b[1m7s\u001b[0m 13ms/step - accuracy: 0.9976 - loss: 0.0126 - val_accuracy: 0.9870 - val_loss: 0.0426\n",
            "Epoch 4/10\n",
            "\u001b[1m527/527\u001b[0m \u001b[32m━━━━━━━━━━━━━━━━━━━━\u001b[0m\u001b[37m\u001b[0m \u001b[1m8s\u001b[0m 15ms/step - accuracy: 0.9990 - loss: 0.0064 - val_accuracy: 0.9954 - val_loss: 0.0212\n",
            "Epoch 5/10\n",
            "\u001b[1m527/527\u001b[0m \u001b[32m━━━━━━━━━━━━━━━━━━━━\u001b[0m\u001b[37m\u001b[0m \u001b[1m11s\u001b[0m 15ms/step - accuracy: 0.9999 - loss: 0.0021 - val_accuracy: 0.9600 - val_loss: 0.1042\n",
            "Epoch 6/10\n",
            "\u001b[1m527/527\u001b[0m \u001b[32m━━━━━━━━━━━━━━━━━━━━\u001b[0m\u001b[37m\u001b[0m \u001b[1m7s\u001b[0m 12ms/step - accuracy: 0.9943 - loss: 0.0171 - val_accuracy: 0.9946 - val_loss: 0.0234\n",
            "Epoch 7/10\n",
            "\u001b[1m527/527\u001b[0m \u001b[32m━━━━━━━━━━━━━━━━━━━━\u001b[0m\u001b[37m\u001b[0m \u001b[1m8s\u001b[0m 15ms/step - accuracy: 0.9989 - loss: 0.0048 - val_accuracy: 0.9945 - val_loss: 0.0236\n",
            "\u001b[1m351/351\u001b[0m \u001b[32m━━━━━━━━━━━━━━━━━━━━\u001b[0m\u001b[37m\u001b[0m \u001b[1m1s\u001b[0m 3ms/step - accuracy: 0.9952 - loss: 0.0221\n",
            "\n",
            " Deep Learning Modelinin Accuracy: 0.9954\n"
          ]
        }
      ]
    },
    {
      "cell_type": "code",
      "source": [],
      "metadata": {
        "id": "4JIgguL7-eMc"
      },
      "execution_count": null,
      "outputs": []
    }
  ]
}