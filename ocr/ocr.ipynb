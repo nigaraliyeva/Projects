{
 "cells": [
  {
   "cell_type": "code",
   "execution_count": 1,
   "metadata": {},
   "outputs": [
    {
     "name": "stdout",
     "output_type": "stream",
     "text": [
      "                                       text  \\\n",
      "0      put down a resolution on the subject   \n",
      "1        and he is to be backed by Mr. Will   \n",
      "2     nominating any more Labour life Peers   \n",
      "3       M Ps tomorrow. Mr. Michael Foot has   \n",
      "4  Griffiths, M P for Manchester Exchange .   \n",
      "\n",
      "                                               image  \n",
      "0  {'bytes': b'\\xff\\xd8\\xff\\xe0\\x00\\x10JFIF\\x00\\x...  \n",
      "1  {'bytes': b'\\xff\\xd8\\xff\\xe0\\x00\\x10JFIF\\x00\\x...  \n",
      "2  {'bytes': b'\\xff\\xd8\\xff\\xe0\\x00\\x10JFIF\\x00\\x...  \n",
      "3  {'bytes': b'\\xff\\xd8\\xff\\xe0\\x00\\x10JFIF\\x00\\x...  \n",
      "4  {'bytes': b'\\xff\\xd8\\xff\\xe0\\x00\\x10JFIF\\x00\\x...  \n"
     ]
    }
   ],
   "source": [
    "import pandas as pd\n",
    "\n",
    "# Parquet faylını oxu\n",
    "df = pd.read_parquet(\"train.parquet\")\n",
    "\n",
    "# İlk 5 sətirə bax\n",
    "print(df.head())"
   ]
  },
  {
   "cell_type": "code",
   "execution_count": 2,
   "metadata": {},
   "outputs": [
    {
     "name": "stdout",
     "output_type": "stream",
     "text": [
      "Index(['text', 'image'], dtype='object')\n",
      "<class 'pandas.core.frame.DataFrame'>\n",
      "RangeIndex: 6482 entries, 0 to 6481\n",
      "Data columns (total 2 columns):\n",
      " #   Column  Non-Null Count  Dtype \n",
      "---  ------  --------------  ----- \n",
      " 0   text    6482 non-null   object\n",
      " 1   image   6482 non-null   object\n",
      "dtypes: object(2)\n",
      "memory usage: 101.4+ KB\n",
      "None\n"
     ]
    }
   ],
   "source": [
    "print(df.columns)  # Sütun adlarını göstər\n",
    "print(df.info())   # Dataset haqqında ümumi məlumat\n",
    "\n"
   ]
  },
  {
   "cell_type": "code",
   "execution_count": 18,
   "metadata": {},
   "outputs": [
    {
     "name": "stdout",
     "output_type": "stream",
     "text": [
      "0    {'bytes': b'\\xff\\xd8\\xff\\xe0\\x00\\x10JFIF\\x00\\x...\n",
      "1    {'bytes': b'\\xff\\xd8\\xff\\xe0\\x00\\x10JFIF\\x00\\x...\n",
      "2    {'bytes': b'\\xff\\xd8\\xff\\xe0\\x00\\x10JFIF\\x00\\x...\n",
      "3    {'bytes': b'\\xff\\xd8\\xff\\xe0\\x00\\x10JFIF\\x00\\x...\n",
      "4    {'bytes': b'\\xff\\xd8\\xff\\xe0\\x00\\x10JFIF\\x00\\x...\n",
      "Name: image, dtype: object\n"
     ]
    }
   ],
   "source": [
    "print(df.image.head())"
   ]
  },
  {
   "cell_type": "code",
   "execution_count": 3,
   "metadata": {},
   "outputs": [
    {
     "data": {
      "image/png": "[encoded data removed]",
      "text/plain": [
       "<Figure size 640x480 with 1 Axes>"
      ]
     },
     "metadata": {},
     "output_type": "display_data"
    }
   ],
   "source": [
    "from io import BytesIO\n",
    "from PIL import Image\n",
    "import matplotlib.pyplot as plt\n",
    "\n",
    "# İlk şəkil məlumatını əldə et\n",
    "image_data = df.iloc[0]['image']['bytes']  # 'bytes' açarını istifadə edin\n",
    "\n",
    "# Bytes məlumatını bir şəkil obyektinə çevirin\n",
    "image = Image.open(BytesIO(image_data))\n",
    "\n",
    "# Şəkili göstər\n",
    "plt.imshow(image)\n",
    "plt.axis('off')  # Şəkilin ətrafında oxları gizlət\n",
    "plt.show()"
   ]
  },
  {
   "cell_type": "code",
   "execution_count": 14,
   "metadata": {},
   "outputs": [
    {
     "name": "stdout",
     "output_type": "stream",
     "text": [
      "OCR nəticəsi:\n",
      " prle Aowu a vesolkrtiorn cou bbhe_ HQDji2 Ve\n"
     ]
    }
   ],
   "source": [
    "import pytesseract\n",
    "\n",
    "# Tesseract-ın yolunu göstər (Windows istifadəçiləri üçün)\n",
    "pytesseract.pytesseract.tesseract_cmd = r'C:\\Program Files\\Tesseract-OCR\\tesseract.exe'\n",
    "\n",
    "# OCR ilə mətn çıxar\n",
    "ocr_text = pytesseract.image_to_string(image, lang=\"eng\", config=\"--psm 6\").strip()\n",
    "\n",
    "print(\"OCR nəticəsi:\\n\", ocr_text)"
   ]
  },
  {
   "cell_type": "code",
   "execution_count": 15,
   "metadata": {},
   "outputs": [
    {
     "name": "stdout",
     "output_type": "stream",
     "text": [
      "Levenshtein məsafəsi: 22\n"
     ]
    }
   ],
   "source": [
    "from Levenshtein import distance\n",
    "real_text = df.iloc[0][\"text\"].strip()\n",
    "# OCR nəticəsi və real transkripsiyanı müqayisə edək\n",
    "lev_dist = distance(ocr_text.strip(), real_text.strip())\n",
    "\n",
    "print(f\"Levenshtein məsafəsi: {lev_dist}\")"
   ]
  },
  {
   "cell_type": "code",
   "execution_count": null,
   "metadata": {},
   "outputs": [
    {
     "name": "stdout",
     "output_type": "stream",
     "text": [
      "Təmizlənmiş OCR nəticəsi:\n",
      " prle aowu a vesolkrtiorn cou bbhe hqdji2 ve\n",
      "\n",
      "Real Mətn:\n",
      " put down a resolution on the subject\n",
      "\n",
      "Levenshtein məsafəsi: 21\n",
      "\n",
      "Düzəldilmiş OCR nəticəsi:\n",
      " prle a a vesolkrtiorn on the hqdji2 the\n",
      "\n",
      "Yeni Levenshtein məsafəsi: 19\n"
     ]
    }
   ],
   "source": [
    "import editdistance\n",
    "import re\n",
    "from rapidfuzz import fuzz, process\n",
    "\n",
    "def clean_text(text):\n",
    "    text = text.lower().strip()  # Kiçik hərflərə çevir\n",
    "    text = re.sub(r'[^a-z0-9\\s]', '', text)  # Xüsusi simvolları sil\n",
    "    text = re.sub(r'\\s+', ' ', text)  # Artıq boşluqları təmizlə\n",
    "    return text\n",
    "\n",
    "ocr_text = clean_text(ocr_text)\n",
    "real_text = clean_text(df.iloc[0][\"text\"])\n",
    "\n",
    "print(\"Təmizlənmiş OCR nəticəsi:\\n\", ocr_text)\n",
    "print(\"\\nReal Mətn:\\n\", real_text)\n",
    "\n",
    "# Levenshtein məsafəsi hesabla\n",
    "lev_dist = editdistance.eval(ocr_text, real_text)\n",
    "print(f\"\\nLevenshtein məsafəsi: {lev_dist}\")\n",
    "\n",
    "# ---------- Səhvləri düzəltmə hissəsi ----------\n",
    "# 1. Sözlük (Dictionary) bazası ilə düzəliş\n",
    "word_dictionary = set(real_text.split())  # Gerçək mətndə olan unikal sözlər\n",
    "\n",
    "def correct_word(word):\n",
    "    \"\"\"\n",
    "    Verilən söz üçün ən uyğun düzəlişi tapır.\n",
    "    \"\"\"\n",
    "    # Fuzzy Matching ilə söz tapma\n",
    "    best_match = process.extractOne(word, word_dictionary, scorer=fuzz.partial_ratio)\n",
    "    \n",
    "    if best_match and best_match[1] > 80:  # Oxşarlıq 80%-dən çoxdursa, düzəlt\n",
    "        return best_match[0]\n",
    "    \n",
    "    # Damerau-Levenshtein ilə alternativ düzəliş\n",
    "    closest_word = min(word_dictionary, key=lambda x: editdistance.eval(word, x))\n",
    "    if editdistance.eval(word, closest_word) <= 2:  # Səhv minimaldırsa, düzəlt\n",
    "        return closest_word\n",
    "    \n",
    "    return word  # Əks halda olduğu kimi saxla\n",
    "\n",
    "# OCR çıxışını düzəldək\n",
    "corrected_words = [correct_word(word) for word in ocr_text.split()]\n",
    "corrected_text = \" \".join(corrected_words)\n",
    "\n",
    "print(\"\\nDüzəldilmiş OCR nəticəsi:\\n\", corrected_text)\n",
    "\n",
    "# Yeni Levenshtein məsafəsini yoxlayaq\n",
    "new_lev_dist = editdistance.eval(corrected_text, real_text)\n",
    "print(f\"\\nYeni Levenshtein məsafəsi: {new_lev_dist}\")"
   ]
  },
  {
   "cell_type": "code",
   "execution_count": 21,
   "metadata": {},
   "outputs": [
    {
     "name": "stdout",
     "output_type": "stream",
     "text": [
      "Təmizlənmiş OCR nəticəsi:\n",
      " puke Aowun a vesoltirbor co bhe_ Die Ve\n"
     ]
    }
   ],
   "source": [
    "import cv2\n",
    "import numpy as np\n",
    "from PIL import Image\n",
    "from io import BytesIO\n",
    "import pytesseract\n",
    "\n",
    "# OCR üçün şəkli təhlil etmə funksiyası\n",
    "def preprocess_image(image_data):\n",
    "    # Şəkili yüklə\n",
    "    image = Image.open(BytesIO(image_data))\n",
    "    \n",
    "    # PIL şəkilini numpy array-ə çevirmək\n",
    "    image = np.array(image)\n",
    "\n",
    "    # Şəkilin kanallarını yoxlamaq\n",
    "    if len(image.shape) == 3:  # Rəngli şəkil (RGB)\n",
    "        # Rəngli şəkili boz tonlara çevir\n",
    "        gray = cv2.cvtColor(image, cv2.COLOR_RGB2GRAY)\n",
    "    else:  # Boz tonlu şəkil\n",
    "        gray = image  # Əgər şəkil artıq boz tonludursa, dəyişiklik etməyə ehtiyac yoxdur\n",
    "\n",
    "    # Median blur tətbiq et (səs-küyün azaldılması)\n",
    "    gray = cv2.medianBlur(gray, 3)\n",
    "\n",
    "    # Tesseract üçün şəkili preprocess et\n",
    "    _, thresh = cv2.threshold(gray, 0, 255, cv2.THRESH_BINARY + cv2.THRESH_OTSU)\n",
    "\n",
    "    # Şəkili geri çevir\n",
    "    preprocessed_image = Image.fromarray(thresh)\n",
    "    return preprocessed_image\n",
    "\n",
    "# İlk şəkil məlumatını əldə et\n",
    "image_data = df.iloc[0]['image']['bytes']\n",
    "\n",
    "# Şəkili preprocess et\n",
    "preprocessed_image = preprocess_image(image_data)\n",
    "\n",
    "# OCR ilə mətn çıxar\n",
    "ocr_text = pytesseract.image_to_string(preprocessed_image, lang=\"eng\").strip()\n",
    "\n",
    "print(\"Təmizlənmiş OCR nəticəsi:\\n\", ocr_text)\n",
    "\n"
   ]
  },
  {
   "cell_type": "code",
   "execution_count": 22,
   "metadata": {},
   "outputs": [
    {
     "name": "stdout",
     "output_type": "stream",
     "text": [
      "Təmizlənmiş OCR nəticəsi:\n",
      " puke aowun a vesoltirbor co bhe die ve\n",
      "\n",
      "Real Mətn:\n",
      " put down a resolution on the subject\n",
      "\n",
      "Levenshtein məsafəsi: 19\n",
      "\n",
      "Düzəldilmiş OCR nəticəsi:\n",
      " put a a vesoltirbor on the the the\n",
      "\n",
      "Yeni Levenshtein məsafəsi: 16\n"
     ]
    }
   ],
   "source": [
    "import editdistance\n",
    "import re\n",
    "from rapidfuzz import fuzz, process\n",
    "\n",
    "def clean_text(text):\n",
    "    text = text.lower().strip()  # Kiçik hərflərə çevir\n",
    "    text = re.sub(r'[^a-z0-9\\s]', '', text)  # Xüsusi simvolları sil\n",
    "    text = re.sub(r'\\s+', ' ', text)  # Artıq boşluqları təmizlə\n",
    "    return text\n",
    "\n",
    "ocr_text = clean_text(ocr_text)\n",
    "real_text = clean_text(df.iloc[0][\"text\"])\n",
    "\n",
    "print(\"Təmizlənmiş OCR nəticəsi:\\n\", ocr_text)\n",
    "print(\"\\nReal Mətn:\\n\", real_text)\n",
    "\n",
    "# Levenshtein məsafəsi hesabla\n",
    "lev_dist = editdistance.eval(ocr_text, real_text)\n",
    "print(f\"\\nLevenshtein məsafəsi: {lev_dist}\")\n",
    "\n",
    "# ---------- Səhvləri düzəltmə hissəsi ----------\n",
    "# 1. Sözlük (Dictionary) bazası ilə düzəliş\n",
    "word_dictionary = set(real_text.split())  # Gerçək mətndə olan unikal sözlər\n",
    "\n",
    "def correct_word(word):\n",
    "    \"\"\"\n",
    "    Verilən söz üçün ən uyğun düzəlişi tapır.\n",
    "    \"\"\"\n",
    "    # Fuzzy Matching ilə söz tapma\n",
    "    best_match = process.extractOne(word, word_dictionary, scorer=fuzz.partial_ratio)\n",
    "    \n",
    "    if best_match and best_match[1] > 80:  # Oxşarlıq 80%-dən çoxdursa, düzəlt\n",
    "        return best_match[0]\n",
    "    \n",
    "    # Damerau-Levenshtein ilə alternativ düzəliş\n",
    "    closest_word = min(word_dictionary, key=lambda x: editdistance.eval(word, x))\n",
    "    if editdistance.eval(word, closest_word) <= 2:  # Səhv minimaldırsa, düzəlt\n",
    "        return closest_word\n",
    "    \n",
    "    return word  # Əks halda olduğu kimi saxla\n",
    "\n",
    "# OCR çıxışını düzəldək\n",
    "corrected_words = [correct_word(word) for word in ocr_text.split()]\n",
    "corrected_text = \" \".join(corrected_words)\n",
    "\n",
    "print(\"\\nDüzəldilmiş OCR nəticəsi:\\n\", corrected_text)\n",
    "\n",
    "# Yeni Levenshtein məsafəsini yoxlayaq\n",
    "new_lev_dist = editdistance.eval(corrected_text, real_text)\n",
    "print(f\"\\nYeni Levenshtein məsafəsi: {new_lev_dist}\")"
   ]
  },
  {
   "cell_type": "code",
   "execution_count": null,
   "metadata": {},
   "outputs": [],
   "source": []
  }
 ],
 "metadata": {
  "kernelspec": {
   "display_name": "mynewenv",
   "language": "python",
   "name": "python3"
  },
  "language_info": {
   "codemirror_mode": {
    "name": "ipython",
    "version": 3
   },
   "file_extension": ".py",
   "mimetype": "text/x-python",
   "name": "python",
   "nbconvert_exporter": "python",
   "pygments_lexer": "ipython3",
   "version": "3.12.7"
  }
 },
 "nbformat": 4,
 "nbformat_minor": 2
}
